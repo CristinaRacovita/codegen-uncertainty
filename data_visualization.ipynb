{
 "cells": [
  {
   "cell_type": "markdown",
   "id": "0f7d0772-4c21-4c71-8aa1-0e12a086f0bc",
   "metadata": {
    "user_expressions": []
   },
   "source": [
    "# The Leetcode Problem Dataset\n",
    "Here, I will explore and visualize this dataset to gain insights and identify patterns. The dataset contains information about LeetCode problems, including their difficulty levels, tags, and other relevant attributes. By visualizing this data, we can better understand the distribution of problem difficulties, the most common tags, and other interesting trends."
   ]
  },
  {
   "cell_type": "code",
   "execution_count": 31,
   "id": "bce683ef-d5e1-4819-b9e1-956262fb4d1e",
   "metadata": {
    "tags": []
   },
   "outputs": [],
   "source": [
    "import os\n",
    "import pandas as pd\n",
    "from sklearn.feature_selection import mutual_info_classif"
   ]
  },
  {
   "cell_type": "code",
   "execution_count": 61,
   "id": "64690839-f306-4e1d-82c6-537af5a3bdc4",
   "metadata": {
    "tags": []
   },
   "outputs": [],
   "source": [
    "csv_file = '/datasets/leetcode_dataset.csv'\n",
    "csv_full_path = os.getcwd()+csv_file\n",
    "if os.path.exists(csv_full_path):\n",
    "    leetcode_problems = pd.read_csv(csv_full_path)\n",
    "else:\n",
    "    leetcode_problems = None\n",
    "    print(\"File not found.\")"
   ]
  },
  {
   "cell_type": "code",
   "execution_count": 62,
   "id": "3a821a64-b17d-4eab-881c-1330652bbb1b",
   "metadata": {
    "tags": []
   },
   "outputs": [],
   "source": [
    "selected_columns = [\"id\", \"title\", \"description\", \"difficulty\", \"acceptance_rate\", \"frequency\", \"discuss_count\", \"likes\", \"dislikes\", \"rating\"]"
   ]
  },
  {
   "cell_type": "code",
   "execution_count": 63,
   "id": "99ddc0c7-df06-4527-91f2-df80c08e16f8",
   "metadata": {
    "tags": []
   },
   "outputs": [],
   "source": [
    "leetcode_problems = leetcode_problems.filter(items=selected_columns)"
   ]
  },
  {
   "cell_type": "code",
   "execution_count": 64,
   "id": "e246951f-49dd-45b2-9b4b-2810e2493fbd",
   "metadata": {
    "tags": []
   },
   "outputs": [
    {
     "data": {
      "text/html": [
       "<div>\n",
       "<style scoped>\n",
       "    .dataframe tbody tr th:only-of-type {\n",
       "        vertical-align: middle;\n",
       "    }\n",
       "\n",
       "    .dataframe tbody tr th {\n",
       "        vertical-align: top;\n",
       "    }\n",
       "\n",
       "    .dataframe thead th {\n",
       "        text-align: right;\n",
       "    }\n",
       "</style>\n",
       "<table border=\"1\" class=\"dataframe\">\n",
       "  <thead>\n",
       "    <tr style=\"text-align: right;\">\n",
       "      <th></th>\n",
       "      <th>id</th>\n",
       "      <th>title</th>\n",
       "      <th>description</th>\n",
       "      <th>difficulty</th>\n",
       "      <th>acceptance_rate</th>\n",
       "      <th>frequency</th>\n",
       "      <th>discuss_count</th>\n",
       "      <th>likes</th>\n",
       "      <th>dislikes</th>\n",
       "      <th>rating</th>\n",
       "    </tr>\n",
       "  </thead>\n",
       "  <tbody>\n",
       "    <tr>\n",
       "      <th>0</th>\n",
       "      <td>1</td>\n",
       "      <td>Two Sum</td>\n",
       "      <td>Given an array of integers `nums` and an integ...</td>\n",
       "      <td>Easy</td>\n",
       "      <td>46.7</td>\n",
       "      <td>100.0</td>\n",
       "      <td>999</td>\n",
       "      <td>20217</td>\n",
       "      <td>712</td>\n",
       "      <td>97</td>\n",
       "    </tr>\n",
       "    <tr>\n",
       "      <th>1</th>\n",
       "      <td>2</td>\n",
       "      <td>Add Two Numbers</td>\n",
       "      <td>You are given two non-empty linked lists repre...</td>\n",
       "      <td>Medium</td>\n",
       "      <td>35.7</td>\n",
       "      <td>93.1</td>\n",
       "      <td>999</td>\n",
       "      <td>11350</td>\n",
       "      <td>2704</td>\n",
       "      <td>81</td>\n",
       "    </tr>\n",
       "    <tr>\n",
       "      <th>2</th>\n",
       "      <td>3</td>\n",
       "      <td>Longest Substring Without Repeating Characters</td>\n",
       "      <td>Given a string `s`, find the length of the lon...</td>\n",
       "      <td>Medium</td>\n",
       "      <td>31.5</td>\n",
       "      <td>90.9</td>\n",
       "      <td>999</td>\n",
       "      <td>13810</td>\n",
       "      <td>714</td>\n",
       "      <td>95</td>\n",
       "    </tr>\n",
       "    <tr>\n",
       "      <th>3</th>\n",
       "      <td>4</td>\n",
       "      <td>Median of Two Sorted Arrays</td>\n",
       "      <td>Given two sorted arrays `nums1` and `nums2` of...</td>\n",
       "      <td>Hard</td>\n",
       "      <td>31.4</td>\n",
       "      <td>86.2</td>\n",
       "      <td>999</td>\n",
       "      <td>9665</td>\n",
       "      <td>1486</td>\n",
       "      <td>87</td>\n",
       "    </tr>\n",
       "    <tr>\n",
       "      <th>4</th>\n",
       "      <td>5</td>\n",
       "      <td>Longest Palindromic Substring</td>\n",
       "      <td>Given a string `s`, return the longest palindr...</td>\n",
       "      <td>Medium</td>\n",
       "      <td>30.6</td>\n",
       "      <td>84.7</td>\n",
       "      <td>999</td>\n",
       "      <td>10271</td>\n",
       "      <td>670</td>\n",
       "      <td>94</td>\n",
       "    </tr>\n",
       "  </tbody>\n",
       "</table>\n",
       "</div>"
      ],
      "text/plain": [
       "   id                                           title  \\\n",
       "0   1                                         Two Sum   \n",
       "1   2                                 Add Two Numbers   \n",
       "2   3  Longest Substring Without Repeating Characters   \n",
       "3   4                     Median of Two Sorted Arrays   \n",
       "4   5                   Longest Palindromic Substring   \n",
       "\n",
       "                                         description difficulty  \\\n",
       "0  Given an array of integers `nums` and an integ...       Easy   \n",
       "1  You are given two non-empty linked lists repre...     Medium   \n",
       "2  Given a string `s`, find the length of the lon...     Medium   \n",
       "3  Given two sorted arrays `nums1` and `nums2` of...       Hard   \n",
       "4  Given a string `s`, return the longest palindr...     Medium   \n",
       "\n",
       "   acceptance_rate  frequency  discuss_count  likes  dislikes  rating  \n",
       "0             46.7      100.0            999  20217       712      97  \n",
       "1             35.7       93.1            999  11350      2704      81  \n",
       "2             31.5       90.9            999  13810       714      95  \n",
       "3             31.4       86.2            999   9665      1486      87  \n",
       "4             30.6       84.7            999  10271       670      94  "
      ]
     },
     "execution_count": 64,
     "metadata": {},
     "output_type": "execute_result"
    }
   ],
   "source": [
    "leetcode_problems.head()"
   ]
  },
  {
   "cell_type": "code",
   "execution_count": 14,
   "id": "93c9e04f-5240-4e61-ad80-089d8cb8d2c6",
   "metadata": {},
   "outputs": [
    {
     "data": {
      "text/plain": [
       "(1825, 10)"
      ]
     },
     "execution_count": 14,
     "metadata": {},
     "output_type": "execute_result"
    }
   ],
   "source": [
    "leetcode_problems.shape"
   ]
  },
  {
   "cell_type": "code",
   "execution_count": 15,
   "id": "d3c29cc1-7578-450f-866b-fb94b4dcf0f1",
   "metadata": {
    "tags": []
   },
   "outputs": [
    {
     "data": {
      "text/plain": [
       "difficulty\n",
       "Easy      477\n",
       "Hard      385\n",
       "Medium    963\n",
       "dtype: int64"
      ]
     },
     "execution_count": 15,
     "metadata": {},
     "output_type": "execute_result"
    }
   ],
   "source": [
    "difficulty_counts = leetcode_problems.groupby('difficulty')\n",
    "difficulty_counts.size()"
   ]
  },
  {
   "cell_type": "markdown",
   "id": "45f360ca-06c6-49c0-8543-2958151f8d1e",
   "metadata": {
    "user_expressions": []
   },
   "source": [
    "## Selection of the Problems\n",
    "To choose the problems I want to include in my research, I plan to analyze how certain factors correlate with one another. Specifically, I will look at the relationship between the rating (calculated as likes / (likes + dislikes)) and the frequency of each problem in comparison to its acceptance rate, difficulty level, and the number of discussion posts.\n",
    "\n",
    "The correlation coefficient is between -1 and 1, where:\n",
    "- 1 indicates a perfect positive correlation,\n",
    "- 1 indicates a perfect negative correlation,\n",
    "- 0 indicates no correlation."
   ]
  },
  {
   "cell_type": "code",
   "execution_count": 38,
   "id": "49cf7d00-2638-44f7-b607-933b8944a258",
   "metadata": {
    "tags": []
   },
   "outputs": [],
   "source": [
    "def compute_correlation(feature_1, feature_2):\n",
    "    return leetcode_problems[feature_1].corr(leetcode_problems[feature_2], method='pearson')\n",
    "\n",
    "def compute_mutual_information(feature_1, feature_2):\n",
    "    return mutual_info_classif(leetcode_problems[feature_1].to_frame(), leetcode_problems[feature_2], discrete_features=False)"
   ]
  },
  {
   "cell_type": "code",
   "execution_count": 39,
   "id": "7d9eaab9-aad1-43ef-ab0d-2b5abed8e656",
   "metadata": {
    "tags": []
   },
   "outputs": [],
   "source": [
    "def correlation_analysis():\n",
    "    print(\"Correlation/Mutual Information between user preferences and acceptance rate, number of disscusion posts, and difficulty level.\")\n",
    "    print(f\"Rating & Acceptance Rate: {compute_correlation('rating', 'acceptance_rate')}\")\n",
    "    print(f\"Rating & Discuss Count: {compute_correlation('rating', 'discuss_count')}\")\n",
    "    print(f\"Rating & Difficulty Level: {compute_mutual_information('rating', 'difficulty')}\")\n",
    "\n",
    "    print(f\"Likes & Acceptance Rate: {compute_correlation('likes', 'acceptance_rate')}\")\n",
    "    print(f\"Likes & Discuss Count: {compute_correlation('likes', 'discuss_count')}\")\n",
    "    print(f\"Likes & Difficulty Level: {compute_mutual_information('rating', 'difficulty')}\")\n",
    "    \n",
    "    print(f\"Dislikes & Acceptance Rate: {compute_correlation('dislikes', 'acceptance_rate')}\")\n",
    "    print(f\"Dislikes & Discuss Count: {compute_correlation('dislikes', 'discuss_count')}\")\n",
    "    print(f\"Dislikes & Difficulty Level: {compute_mutual_information('rating', 'difficulty')}\")\n",
    "    \n",
    "    print(\"\\n\")\n",
    "    print(\"Correlation/Mutual Information between problems' frequency and acceptance rate, number of disscusion posts, and difficulty level.\")\n",
    "    print(f\"Frequency & Acceptance Rate: {compute_correlation('frequency', 'acceptance_rate')}\")\n",
    "    print(f\"Frequency & Discuss Count: {compute_correlation('frequency', 'discuss_count')}\")\n",
    "    print(f\"Frequncy & Difficulty Level: {compute_mutual_information('frequency', 'difficulty')}\")\n"
   ]
  },
  {
   "cell_type": "code",
   "execution_count": 40,
   "id": "a9748e34-12d2-4216-8ea9-71584b9d984d",
   "metadata": {
    "tags": []
   },
   "outputs": [
    {
     "name": "stdout",
     "output_type": "stream",
     "text": [
      "Correlation/Mutual Information between user preferences and acceptance rate, number of disscusion posts, and difficulty level.\n",
      "Rating & Acceptance Rate: 0.10283248334628776\n",
      "Rating & Discuss Count: 0.14597714752434862\n",
      "Rating & Difficulty Level: [0.02235389]\n",
      "Likes & Acceptance Rate: -0.16477436888885752\n",
      "Likes & Discuss Count: 0.6683382551951363\n",
      "Likes & Difficulty Level: [0.01119193]\n",
      "Dislikes & Acceptance Rate: -0.1792639970313835\n",
      "Dislikes & Discuss Count: 0.30764244244601957\n",
      "Dislikes & Difficulty Level: [0.01853596]\n",
      "\n",
      "\n",
      "Correlation/Mutual Information between problems' frequency and acceptance rate, number of disscusion posts, and difficulty level.\n",
      "Frequency & Acceptance Rate: -0.23185275093821459\n",
      "Frequency & Discuss Count: 0.519824075078056\n",
      "Frequncy & Difficulty Level: [0.02578374]\n"
     ]
    }
   ],
   "source": [
    "correlation_analysis()"
   ]
  },
  {
   "cell_type": "markdown",
   "id": "82542cd1-00ec-4cd0-b72a-204b4f03f2f0",
   "metadata": {
    "user_expressions": []
   },
   "source": [
    "The analysis shows that user engagement, particularly through likes and discussion posts, is more closely related to problem popularity than acceptance rate or difficulty level. Problems with more discussions tend to receive higher ratings and more likes, while problems with higher acceptance rates tend to receive fewer likes and slightly more dislikes. Interestingly, the difficulty level has minimal influence on user preferences or problem frequency. Additionally, problems that appear more frequently are more discussed but tend to have lower acceptance rates. Overall, user preferences are driven more by how often a problem sparks discussion rather than how easy or hard it is."
   ]
  },
  {
   "cell_type": "markdown",
   "id": "3261cc08-6b85-4efc-b348-909821a9c768",
   "metadata": {
    "user_expressions": []
   },
   "source": [
    "### Getting k Most Popular Problems\n",
    "I calculate the popularity of a problem using its rating score."
   ]
  },
  {
   "cell_type": "code",
   "execution_count": 41,
   "id": "d6a72adc-d7d7-4ff9-ae5d-15a931c55777",
   "metadata": {
    "tags": []
   },
   "outputs": [],
   "source": [
    "def get_top_k_problems(group, k):\n",
    "    return group.sort_values(by='rating', ascending=False).head(k)"
   ]
  },
  {
   "cell_type": "code",
   "execution_count": 48,
   "id": "29a53a42-c204-4e03-abc5-7b4578f40dbe",
   "metadata": {
    "tags": []
   },
   "outputs": [],
   "source": [
    "def get_k_most_popular_problems(k, difficulty):\n",
    "    difficulty_group = leetcode_problems[(leetcode_problems['difficulty'] == difficulty) & (leetcode_problems['description'] != 'SQL Schema')]\n",
    "    top_k_problems_by_category = difficulty_group.groupby('difficulty', group_keys=False).apply(get_top_k_problems, k=k)\n",
    "    return top_k_problems_by_category[[\"id\", \"title\", \"description\", \"difficulty\", \"rating\"]]"
   ]
  },
  {
   "cell_type": "code",
   "execution_count": 57,
   "id": "8169ad2b-0e92-4b19-8171-59ad44b0ffbc",
   "metadata": {
    "tags": []
   },
   "outputs": [
    {
     "name": "stderr",
     "output_type": "stream",
     "text": [
      "/tmp/ipykernel_235/4023539640.py:3: DeprecationWarning: DataFrameGroupBy.apply operated on the grouping columns. This behavior is deprecated, and in a future version of pandas the grouping columns will be excluded from the operation. Either pass `include_groups=False` to exclude the groupings or explicitly select the grouping columns after groupby to silence this warning.\n",
      "  top_k_problems_by_category = difficulty_group.groupby('difficulty', group_keys=False).apply(get_top_k_problems, k=k)\n",
      "/tmp/ipykernel_235/4023539640.py:3: DeprecationWarning: DataFrameGroupBy.apply operated on the grouping columns. This behavior is deprecated, and in a future version of pandas the grouping columns will be excluded from the operation. Either pass `include_groups=False` to exclude the groupings or explicitly select the grouping columns after groupby to silence this warning.\n",
      "  top_k_problems_by_category = difficulty_group.groupby('difficulty', group_keys=False).apply(get_top_k_problems, k=k)\n",
      "/tmp/ipykernel_235/4023539640.py:3: DeprecationWarning: DataFrameGroupBy.apply operated on the grouping columns. This behavior is deprecated, and in a future version of pandas the grouping columns will be excluded from the operation. Either pass `include_groups=False` to exclude the groupings or explicitly select the grouping columns after groupby to silence this warning.\n",
      "  top_k_problems_by_category = difficulty_group.groupby('difficulty', group_keys=False).apply(get_top_k_problems, k=k)\n"
     ]
    }
   ],
   "source": [
    "selected_problems = pd.concat([get_k_most_popular_problems(10, 'Easy'), get_k_most_popular_problems(10, 'Medium'), get_k_most_popular_problems(10, 'Hard')], ignore_index=True)\n",
    "selected_problems = selected_problems[[\"title\", \"description\", \"difficulty\"]]"
   ]
  },
  {
   "cell_type": "code",
   "execution_count": 58,
   "id": "f8b2bbff-055d-4f73-91cc-9ca619e9cd5d",
   "metadata": {
    "tags": []
   },
   "outputs": [
    {
     "data": {
      "text/plain": [
       "(30, 3)"
      ]
     },
     "execution_count": 58,
     "metadata": {},
     "output_type": "execute_result"
    }
   ],
   "source": [
    "selected_problems.shape"
   ]
  },
  {
   "cell_type": "code",
   "execution_count": 59,
   "id": "21538ebd-28ce-4495-be73-7a804c7952dc",
   "metadata": {
    "tags": []
   },
   "outputs": [
    {
     "name": "stdout",
     "output_type": "stream",
     "text": [
      "You are given an integer array `score` of size `n`, where `score[i]` is the score of the `ith` athlete in a competition. All the scores are guaranteed to be unique.\n",
      "\n",
      "The athletes are placed based on their scores, where the `1st` place athlete has the highest score, the `2nd` place athlete has the `2nd` highest score, and so on. The placement of each athlete determines their rank:\n",
      "The `1st` place athlete's rank is `\"Gold Medal\"`.\n",
      "\n",
      "The `2nd` place athlete's rank is `\"Silver Medal\"`.\n",
      "\n",
      "The `3rd` place athlete's rank is `\"Bronze Medal\"`.\n",
      "\n",
      "For the `4th` place to the `nth` place athlete, their rank is their placement number (i.e., the `xth` place athlete's rank is `\"x\"`).\n",
      "\n",
      "Return an array `answer` of size `n` where `answer[i]` is the rank of the `ith` athlete.\n",
      "\n",
      "\n",
      "Example 1:\n",
      "Input: score = [5,4,3,2,1]\n",
      "Output: [\"Gold Medal\",\"Silver Medal\",\"Bronze Medal\",\"4\",\"5\"]\n",
      "Explanation: The placements are [1st, 2nd, 3rd, 4th, 5th].\n",
      "\n",
      "\n",
      "Example 2:\n",
      "Input: score = [10,3,8,9,4]\n",
      "Output: [\"Gold Medal\",\"5\",\"Bronze Medal\",\"Silver Medal\",\"4\"]\n",
      "Explanation: The placements are [1st, 5th, 3rd, 2nd, 4th].\n",
      "\n",
      "\n",
      "Constraints:\n",
      "`n == score.length`\n",
      "`1 <= n <= 104`\n",
      "`0 <= score[i] <= 106`\n",
      "All the values in `score` are unique.\n"
     ]
    }
   ],
   "source": [
    "print(selected_problems['description'][0])"
   ]
  },
  {
   "cell_type": "code",
   "execution_count": 60,
   "id": "545b22ee-a6fb-484d-81d7-befbf7a13669",
   "metadata": {
    "tags": []
   },
   "outputs": [],
   "source": [
    "selected_problems.to_csv('datasets/leetcode_selected_problems.csv', index=False)"
   ]
  }
 ],
 "metadata": {
  "kernelspec": {
   "display_name": "Python",
   "language": "python",
   "name": "python3"
  },
  "language_info": {
   "codemirror_mode": {
    "name": "ipython",
    "version": 3
   },
   "file_extension": ".py",
   "mimetype": "text/x-python",
   "name": "python",
   "nbconvert_exporter": "python",
   "pygments_lexer": "ipython3",
   "version": "3.10.12"
  }
 },
 "nbformat": 4,
 "nbformat_minor": 5
}
