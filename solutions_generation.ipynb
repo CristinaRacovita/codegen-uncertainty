{
 "cells": [
  {
   "cell_type": "markdown",
   "id": "299a9826-4de9-4fa1-9666-9cbac37fff71",
   "metadata": {
    "user_expressions": []
   },
   "source": [
    "# Generating the Solutions for the Selected Problems\n",
    "Here, I want to use **Qwen2.5-Coder-14B-Instruct** to generate the solutions for the selected problems. Each of them will be written in Python, C#, and Typescript. The model is available on [Hugging Face](https://huggingface.co/Qwen/Qwen2.5-Coder-14B-Instruct)."
   ]
  },
  {
   "cell_type": "code",
   "execution_count": 69,
   "id": "9b78d671-8042-4986-9aac-1a28fadc0ece",
   "metadata": {
    "tags": []
   },
   "outputs": [],
   "source": [
    "# !pip install transformers"
   ]
  },
  {
   "cell_type": "code",
   "execution_count": 70,
   "id": "acc5012a-6010-4a8e-94ba-58962f161c60",
   "metadata": {
    "tags": []
   },
   "outputs": [],
   "source": [
    "import re\n",
    "import os\n",
    "import pandas as pd\n",
    "from tqdm import tqdm\n",
    "from enum import Enum\n",
    "from transformers import AutoTokenizer, AutoModelForCausalLM"
   ]
  },
  {
   "cell_type": "markdown",
   "id": "dcd375d8-0265-46f7-9f87-887240f22d4e",
   "metadata": {
    "user_expressions": []
   },
   "source": [
    "## Selected Problems Loading\n",
    "Firstly, I need to load the selected problems dataframe."
   ]
  },
  {
   "cell_type": "code",
   "execution_count": 71,
   "id": "93f12fc9-70b6-456f-855e-00bc3c13b41a",
   "metadata": {
    "tags": []
   },
   "outputs": [],
   "source": [
    "csv_file = '/datasets/leetcode_selected_problems.csv'\n",
    "csv_full_path = os.getcwd()+csv_file\n",
    "if os.path.exists(csv_full_path):\n",
    "    selected_problems = pd.read_csv(csv_full_path)\n",
    "else:\n",
    "    selected_problems = None\n",
    "    print(\"File not found.\")"
   ]
  },
  {
   "cell_type": "code",
   "execution_count": 72,
   "id": "f475f374-e4ef-47a9-9ad2-cd555af8cb6c",
   "metadata": {
    "tags": []
   },
   "outputs": [],
   "source": [
    "selected_problems[\"solution\"] = ''"
   ]
  },
  {
   "cell_type": "code",
   "execution_count": 73,
   "id": "d4009c60-2f0c-47a1-848a-8f6412d57f7c",
   "metadata": {
    "tags": []
   },
   "outputs": [
    {
     "data": {
      "text/html": [
       "<div>\n",
       "<style scoped>\n",
       "    .dataframe tbody tr th:only-of-type {\n",
       "        vertical-align: middle;\n",
       "    }\n",
       "\n",
       "    .dataframe tbody tr th {\n",
       "        vertical-align: top;\n",
       "    }\n",
       "\n",
       "    .dataframe thead th {\n",
       "        text-align: right;\n",
       "    }\n",
       "</style>\n",
       "<table border=\"1\" class=\"dataframe\">\n",
       "  <thead>\n",
       "    <tr style=\"text-align: right;\">\n",
       "      <th></th>\n",
       "      <th>title</th>\n",
       "      <th>description</th>\n",
       "      <th>difficulty</th>\n",
       "      <th>solution</th>\n",
       "    </tr>\n",
       "  </thead>\n",
       "  <tbody>\n",
       "    <tr>\n",
       "      <th>0</th>\n",
       "      <td>Relative Ranks</td>\n",
       "      <td>You are given an integer array `score` of size...</td>\n",
       "      <td>Easy</td>\n",
       "      <td></td>\n",
       "    </tr>\n",
       "    <tr>\n",
       "      <th>1</th>\n",
       "      <td>Truncate Sentence</td>\n",
       "      <td>A sentence is a list of words that are separat...</td>\n",
       "      <td>Easy</td>\n",
       "      <td></td>\n",
       "    </tr>\n",
       "    <tr>\n",
       "      <th>2</th>\n",
       "      <td>Perform String Shifts</td>\n",
       "      <td>You are given a string `s` containing lowercas...</td>\n",
       "      <td>Easy</td>\n",
       "      <td></td>\n",
       "    </tr>\n",
       "    <tr>\n",
       "      <th>3</th>\n",
       "      <td>Invert Binary Tree</td>\n",
       "      <td>Given the `root` of a binary tree, invert the ...</td>\n",
       "      <td>Easy</td>\n",
       "      <td></td>\n",
       "    </tr>\n",
       "    <tr>\n",
       "      <th>4</th>\n",
       "      <td>Merge Strings Alternately</td>\n",
       "      <td>You are given two strings `word1` and `word2`....</td>\n",
       "      <td>Easy</td>\n",
       "      <td></td>\n",
       "    </tr>\n",
       "  </tbody>\n",
       "</table>\n",
       "</div>"
      ],
      "text/plain": [
       "                       title  \\\n",
       "0             Relative Ranks   \n",
       "1          Truncate Sentence   \n",
       "2      Perform String Shifts   \n",
       "3         Invert Binary Tree   \n",
       "4  Merge Strings Alternately   \n",
       "\n",
       "                                         description difficulty solution  \n",
       "0  You are given an integer array `score` of size...       Easy           \n",
       "1  A sentence is a list of words that are separat...       Easy           \n",
       "2  You are given a string `s` containing lowercas...       Easy           \n",
       "3  Given the `root` of a binary tree, invert the ...       Easy           \n",
       "4  You are given two strings `word1` and `word2`....       Easy           "
      ]
     },
     "execution_count": 73,
     "metadata": {},
     "output_type": "execute_result"
    }
   ],
   "source": [
    "selected_problems.head()"
   ]
  },
  {
   "cell_type": "markdown",
   "id": "807ff3e6-2487-4fd6-a718-78956ad13b89",
   "metadata": {
    "user_expressions": []
   },
   "source": [
    "## Loading Qwen2.5-Coder-14B-Instruct Model"
   ]
  },
  {
   "cell_type": "code",
   "execution_count": 74,
   "id": "3d9dddf5-ee7d-4fcf-ba79-14a6154f6cd3",
   "metadata": {
    "tags": []
   },
   "outputs": [],
   "source": [
    "class Language(Enum):\n",
    "    PYTHON = \"python\"\n",
    "    TYPESCRIPT = \"typescript\"\n",
    "    C_SHARP = \"csharp\""
   ]
  },
  {
   "cell_type": "code",
   "execution_count": 75,
   "id": "aa2312c4-84e4-4580-b52f-e959417d3557",
   "metadata": {
    "tags": []
   },
   "outputs": [
    {
     "data": {
      "application/vnd.jupyter.widget-view+json": {
       "model_id": "85b6d75eeeb84d6c870f51971116b89d",
       "version_major": 2,
       "version_minor": 0
      },
      "text/plain": [
       "Loading checkpoint shards:   0%|          | 0/6 [00:00<?, ?it/s]"
      ]
     },
     "metadata": {},
     "output_type": "display_data"
    }
   ],
   "source": [
    "model_name = \"Qwen/Qwen2.5-Coder-14B-Instruct\"\n",
    "\n",
    "tokenizer = AutoTokenizer.from_pretrained(model_name)\n",
    "model = AutoModelForCausalLM.from_pretrained(model_name)"
   ]
  },
  {
   "cell_type": "code",
   "execution_count": 76,
   "id": "3a90c48c-7e2c-4175-a053-80ff1af905d7",
   "metadata": {
    "tags": []
   },
   "outputs": [],
   "source": [
    "c_sharp_prompt = \"You are a C# developer. Please, solve this problem avoid using any built-in functions or libraries that simplify algorithmic steps:\\n\"\n",
    "python_prompt = \"You are a Python developer. Please, solve this problem avoid using any built-in functions or libraries that simplify algorithmic steps:\\n\"\n",
    "typescript_prompt = \"You are a Typescript developer. Please, solve this problem avoid using any built-in functions or libraries that simplify algorithmic steps:\\n\""
   ]
  },
  {
   "cell_type": "code",
   "execution_count": 77,
   "id": "8af6aa0b-c35c-4b21-96a1-2be0ce301152",
   "metadata": {
    "tags": []
   },
   "outputs": [],
   "source": [
    "def get_code_from_text(text, programming_language):\n",
    "    code_match = re.search(r'```(.*?)```', text, re.DOTALL)\n",
    "    if code_match:\n",
    "        extracted_code = code_match.group(1).strip().replace(programming_language.value+'\\n', '')\n",
    "        return extracted_code\n",
    "    else:\n",
    "        return \"No code found in the generated output\""
   ]
  },
  {
   "cell_type": "code",
   "execution_count": 78,
   "id": "d05cba18-1850-47a4-b34a-cb3dced5e38f",
   "metadata": {
    "tags": []
   },
   "outputs": [],
   "source": [
    "max_context_length = model.config.max_position_embeddings\n",
    "\n",
    "def get_generated_code(prompt, programming_language):\n",
    "    inputs = tokenizer(prompt, return_tensors=\"pt\", padding=True)\n",
    "    input_ids = inputs['input_ids']\n",
    "    context_length = input_ids.shape[1]\n",
    "    if context_length >= max_context_length:\n",
    "        print(f\"The prompt is too long: {context_length}; Maximum: {max_context_length}\")\n",
    "        return None\n",
    "\n",
    "    if tokenizer.pad_token_id is None:\n",
    "        tokenizer.pad_token_id = tokenizer.eos_token_id\n",
    "    outputs = model.generate(input_ids=inputs['input_ids'], attention_mask=inputs['attention_mask'], max_length=max_context_length-1)\n",
    "    generated_answer = tokenizer.decode(outputs[0], skip_special_tokens=True)\n",
    "    return get_code_from_text(generated_answer, programming_language)"
   ]
  },
  {
   "cell_type": "code",
   "execution_count": 79,
   "id": "d7f400a3-cee7-4d79-8e9f-b961b734c2aa",
   "metadata": {
    "tags": []
   },
   "outputs": [
    {
     "name": "stdout",
     "output_type": "stream",
     "text": [
      "using System;\n",
      "\n",
      "public class Solution\n",
      "{\n",
      "    public string[] FindRelativeRanks(int[] score)\n",
      "    {\n",
      "        int n = score.Length;\n",
      "        int[] sortedScores = new int[n];\n",
      "        \n",
      "        // Copy the original scores to a new array\n",
      "        for (int i = 0; i < n; i++)\n",
      "        {\n",
      "            sortedScores[i] = score[i];\n",
      "        }\n",
      "        \n",
      "        // Sort the copied scores in descending order\n",
      "        for (int i = 0; i < n - 1; i++)\n",
      "        {\n",
      "            for (int j = i + 1; j < n; j++)\n",
      "            {\n",
      "                if (sortedScores[i] < sortedScores[j])\n",
      "                {\n",
      "                    // Swap\n",
      "                    int temp = sortedScores[i];\n",
      "                    sortedScores[i] = sortedScores[j];\n",
      "                    sortedScores[j] = temp;\n",
      "                }\n",
      "            }\n",
      "        }\n",
      "        \n",
      "        // Create a dictionary to map scores to ranks\n",
      "        string[] ranks = new string[n];\n",
      "        for (int i = 0; i < n; i++)\n",
      "        {\n",
      "            if (i == 0)\n",
      "            {\n",
      "                ranks[sortedScores[i]] = \"Gold Medal\";\n",
      "            }\n",
      "            else if (i == 1)\n",
      "            {\n",
      "                ranks[sortedScores[i]] = \"Silver Medal\";\n",
      "            }\n",
      "            else if (i == 2)\n",
      "            {\n",
      "                ranks[sortedScores[i]] = \"Bronze Medal\";\n",
      "            }\n",
      "            else\n",
      "            {\n",
      "                ranks[sortedScores[i]] = (i + 1).ToString();\n",
      "            }\n",
      "        }\n",
      "        \n",
      "        // Assign ranks to the original scores\n",
      "        string[] result = new string[n];\n",
      "        for (int i = 0; i < n; i++)\n",
      "        {\n",
      "            result[i] = ranks[score[i]];\n",
      "        }\n",
      "        \n",
      "        return result;\n",
      "    }\n",
      "}\n"
     ]
    }
   ],
   "source": [
    "generated_code = get_generated_code(c_sharp_prompt+selected_problems.iloc[0][\"description\"], Language.C_SHARP)\n",
    "print(generated_code)"
   ]
  },
  {
   "cell_type": "markdown",
   "id": "16777b17-a001-4d78-87b9-8075831ec6a4",
   "metadata": {
    "user_expressions": []
   },
   "source": [
    "## Code Generation"
   ]
  },
  {
   "cell_type": "code",
   "execution_count": 80,
   "id": "b0a241d3-3770-4d6a-8e92-839abed29e75",
   "metadata": {
    "tags": []
   },
   "outputs": [],
   "source": [
    "def generate_solution(start_prompt, programming_language):\n",
    "    problems_with_solutions = selected_problems\n",
    "    for index, row in tqdm(problems_with_solutions.iterrows()):\n",
    "         problems_with_solutions.loc[index, \"solution\"] = get_generated_code(start_prompt+row[\"description\"], programming_language)\n",
    "    \n",
    "    return problems_with_solutions"
   ]
  },
  {
   "cell_type": "code",
   "execution_count": 58,
   "id": "5bee4b47-0661-497f-b6cc-41808c4cc032",
   "metadata": {
    "tags": []
   },
   "outputs": [
    {
     "name": "stderr",
     "output_type": "stream",
     "text": [
      "30it [3:33:19, 426.65s/it]\n"
     ]
    }
   ],
   "source": [
    "c_sharp_solutions = generate_solution(c_sharp_prompt, Language.C_SHARP)\n",
    "c_sharp_solutions.to_csv('datasets/leetcode_selected_problems_c_sharp_14B.csv', index=False)"
   ]
  },
  {
   "cell_type": "code",
   "execution_count": 81,
   "id": "512d678c-986d-452a-8a00-edfe9c4ca4c1",
   "metadata": {
    "tags": []
   },
   "outputs": [
    {
     "name": "stderr",
     "output_type": "stream",
     "text": [
      "30it [3:19:34, 399.17s/it]\n"
     ]
    }
   ],
   "source": [
    "typescript_solutions = generate_solution(typescript_prompt, Language.TYPESCRIPT)\n",
    "typescript_solutions.to_csv('datasets/leetcode_selected_problems_typescript_14B.csv', index=False)"
   ]
  },
  {
   "cell_type": "code",
   "execution_count": 82,
   "id": "d97cc6ce-690d-434a-86b9-e033252e2da6",
   "metadata": {
    "tags": []
   },
   "outputs": [
    {
     "name": "stderr",
     "output_type": "stream",
     "text": [
      "30it [3:05:37, 371.25s/it]\n"
     ]
    }
   ],
   "source": [
    "python_solutions = generate_solution(python_prompt, Language.PYTHON)\n",
    "python_solutions.to_csv('datasets/leetcode_selected_problems_python_14B.csv', index=False)"
   ]
  }
 ],
 "metadata": {
  "kernelspec": {
   "display_name": "Python",
   "language": "python",
   "name": "python3"
  },
  "language_info": {
   "codemirror_mode": {
    "name": "ipython",
    "version": 3
   },
   "file_extension": ".py",
   "mimetype": "text/x-python",
   "name": "python",
   "nbconvert_exporter": "python",
   "pygments_lexer": "ipython3",
   "version": "3.10.12"
  }
 },
 "nbformat": 4,
 "nbformat_minor": 5
}
